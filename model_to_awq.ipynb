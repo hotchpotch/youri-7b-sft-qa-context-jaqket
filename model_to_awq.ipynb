{
 "cells": [
  {
   "cell_type": "code",
   "execution_count": 1,
   "metadata": {},
   "outputs": [],
   "source": [
    "DEBUG = False\n",
    "\n",
    "MODEL_NAME = \"rinna/youri-7b-instruction\"\n",
    "MODEL_BASE_NAME = MODEL_NAME.split(\"/\")[-1]\n",
    "LORA_DIR = f\"./pretrained_lora_{MODEL_BASE_NAME}\"\n",
    "\n",
    "OUTPUT_MERGED_DIR = f\"./pretrained_merged_{MODEL_BASE_NAME}\"\n",
    "OUTPUT_QUANTIZED_DIR = f\"./pretrained_awq_{MODEL_BASE_NAME}\""
   ]
  },
  {
   "cell_type": "code",
   "execution_count": 2,
   "metadata": {},
   "outputs": [
    {
     "name": "stderr",
     "output_type": "stream",
     "text": [
      "/home/yu1/miniconda3/envs/llm-sc/lib/python3.10/site-packages/tqdm/auto.py:21: TqdmWarning: IProgress not found. Please update jupyter and ipywidgets. See https://ipywidgets.readthedocs.io/en/stable/user_install.html\n",
      "  from .autonotebook import tqdm as notebook_tqdm\n"
     ]
    }
   ],
   "source": [
    "from peft import PeftModel  # type: ignore\n",
    "from transformers import AutoTokenizer, AutoModelForCausalLM\n",
    "import os\n",
    "\n",
    "if not os.path.exists(OUTPUT_MERGED_DIR):\n",
    "    base_model = AutoModelForCausalLM.from_pretrained(\n",
    "        MODEL_NAME,\n",
    "    )\n",
    "    model = PeftModel.from_pretrained(base_model, LORA_DIR)\n",
    "    model = model.merge_and_unload().half()\n",
    "    model.save_pretrained(OUTPUT_MERGED_DIR)\n",
    "    del model  # unload\n",
    "    del base_model  # unload\n",
    "    tokenizer = AutoTokenizer.from_pretrained(MODEL_NAME)\n",
    "    # save to OUTPUT_SAVE_DIR\n",
    "    tokenizer.save_pretrained(OUTPUT_MERGED_DIR)"
   ]
  },
  {
   "cell_type": "code",
   "execution_count": 3,
   "metadata": {},
   "outputs": [],
   "source": [
    "from datasets import load_dataset\n",
    "\n",
    "\n",
    "# base: https://github.com/casper-hansen/AutoAWQ/blob/main/examples/quant_custom_data.py\n",
    "# Define data loading methods\n",
    "def load_wiki_ja():\n",
    "    data = load_dataset(\n",
    "        \"singletongue/wikipedia-utils\",\n",
    "        split=\"train\",\n",
    "        name=\"passages-c400-jawiki-20230403\",\n",
    "    )\n",
    "\n",
    "    return [text for text in data[\"text\"]]  # type: ignore"
   ]
  },
  {
   "cell_type": "code",
   "execution_count": 4,
   "metadata": {},
   "outputs": [
    {
     "name": "stderr",
     "output_type": "stream",
     "text": [
      "Loading checkpoint shards: 100%|██████████| 3/3 [00:02<00:00,  1.10it/s]\n",
      "AWQ: 100%|██████████| 32/32 [11:47<00:00, 22.11s/it]\n",
      "WARNING:root:`quant_config.json` is being deprecated in the future in favor of quantization_config in config.json.\n"
     ]
    },
    {
     "data": {
      "text/plain": [
       "('./pretrained_awq_youri-7b-instruction/tokenizer_config.json',\n",
       " './pretrained_awq_youri-7b-instruction/special_tokens_map.json',\n",
       " './pretrained_awq_youri-7b-instruction/tokenizer.model',\n",
       " './pretrained_awq_youri-7b-instruction/added_tokens.json',\n",
       " './pretrained_awq_youri-7b-instruction/tokenizer.json')"
      ]
     },
     "execution_count": 4,
     "metadata": {},
     "output_type": "execute_result"
    }
   ],
   "source": [
    "from awq import AutoAWQForCausalLM\n",
    "from transformers import AutoTokenizer\n",
    "\n",
    "model_path = OUTPUT_MERGED_DIR\n",
    "quant_path = OUTPUT_QUANTIZED_DIR\n",
    "\n",
    "q_version = \"GEMM\"\n",
    "quant_config = {\n",
    "    \"zero_point\": True,\n",
    "    \"q_group_size\": 128,\n",
    "    \"w_bit\": 4,\n",
    "    \"version\": q_version,\n",
    "}\n",
    "\n",
    "# Load model\n",
    "model = AutoAWQForCausalLM.from_pretrained(model_path, safetensors=True)\n",
    "tokenizer = AutoTokenizer.from_pretrained(MODEL_NAME)\n",
    "\n",
    "# Quantize\n",
    "model.quantize(tokenizer, quant_config=quant_config, calib_data=load_wiki_ja())  # type: ignore\n",
    "\n",
    "# Save quantized model\n",
    "model.save_quantized(quant_path)\n",
    "tokenizer.save_pretrained(quant_path)"
   ]
  }
 ],
 "metadata": {
  "kernelspec": {
   "display_name": "llm-sc",
   "language": "python",
   "name": "python3"
  },
  "language_info": {
   "codemirror_mode": {
    "name": "ipython",
    "version": 3
   },
   "file_extension": ".py",
   "mimetype": "text/x-python",
   "name": "python",
   "nbconvert_exporter": "python",
   "pygments_lexer": "ipython3",
   "version": "3.10.12"
  }
 },
 "nbformat": 4,
 "nbformat_minor": 2
}
