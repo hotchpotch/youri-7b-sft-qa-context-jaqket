{
 "cells": [
  {
   "cell_type": "code",
   "execution_count": 2,
   "metadata": {},
   "outputs": [
    {
     "name": "stderr",
     "output_type": "stream",
     "text": [
      "tokenizer.model: 100%|██████████| 500k/500k [00:00<00:00, 511kB/s] \n"
     ]
    },
    {
     "data": {
      "text/plain": [
       "CommitInfo(commit_url='https://huggingface.co/hotchpotch/youri-7b-sft-qa-context-jaqket-awq/commit/f719c3422cd71522351c34b0260a06fa71433c1d', commit_message='Upload tokenizer', commit_description='', oid='f719c3422cd71522351c34b0260a06fa71433c1d', pr_url=None, pr_revision=None, pr_num=None)"
      ]
     },
     "execution_count": 2,
     "metadata": {},
     "output_type": "execute_result"
    }
   ],
   "source": [
    "from transformers import AutoTokenizer\n",
    "\n",
    "TARGET_NAME = \"youri-7b-sft-qa-context-jaqket-awq\"\n",
    "\n",
    "# upload tokenizer\n",
    "tokenizer = AutoTokenizer.from_pretrained(\"rinna/youri-7b-instruction\")\n",
    "tokenizer.push_to_hub(TARGET_NAME)"
   ]
  },
  {
   "cell_type": "code",
   "execution_count": 3,
   "metadata": {},
   "outputs": [
    {
     "name": "stderr",
     "output_type": "stream",
     "text": [
      "model.safetensors: 100%|██████████| 3.89G/3.89G [02:13<00:00, 29.2MB/s]\n"
     ]
    },
    {
     "data": {
      "text/plain": [
       "'https://huggingface.co/hotchpotch/youri-7b-sft-qa-context-jaqket-awq/tree/main/'"
      ]
     },
     "execution_count": 3,
     "metadata": {},
     "output_type": "execute_result"
    }
   ],
   "source": [
    "from huggingface_hub import HfApi\n",
    "\n",
    "api = HfApi()\n",
    "\n",
    "quant_path = \"./pretrained_awq_youri-7b-instruction/\"\n",
    "repo_id = f\"hotchpotch/{TARGET_NAME}\"\n",
    "\n",
    "api = HfApi()\n",
    "api.upload_folder(\n",
    "    folder_path=quant_path,\n",
    "    repo_id=repo_id,\n",
    "    repo_type=\"model\",\n",
    ")"
   ]
  }
 ],
 "metadata": {
  "kernelspec": {
   "display_name": "llm-sc",
   "language": "python",
   "name": "python3"
  },
  "language_info": {
   "codemirror_mode": {
    "name": "ipython",
    "version": 3
   },
   "file_extension": ".py",
   "mimetype": "text/x-python",
   "name": "python",
   "nbconvert_exporter": "python",
   "pygments_lexer": "ipython3",
   "version": "3.10.12"
  }
 },
 "nbformat": 4,
 "nbformat_minor": 2
}
