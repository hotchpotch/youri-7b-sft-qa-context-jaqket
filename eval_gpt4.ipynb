{
 "cells": [
  {
   "cell_type": "code",
   "execution_count": 1,
   "metadata": {},
   "outputs": [],
   "source": [
    "from langchain.chat_models import ChatOpenAI\n",
    "from langchain.callbacks import get_openai_callback\n",
    "from langchain.schema import HumanMessage\n",
    "\n",
    "llm = ChatOpenAI(model=\"gpt-4-1106-preview\")\n",
    "\n",
    "text = \"\"\"\n",
    "### Instruction\n",
    "\n",
    "楽曲『約束はいらない』でデビューした、声優は誰？\n",
    "Respond with reference to the following Context.\n",
    "The response should output only the words that are the answer.\n",
    "\n",
    "### Context\n",
    "\n",
    "(0.21018645, '約束はいらない', '「約束はいらない」(やくそくはいらない)は、坂本真綾のデビューシングル。') (0.24241784, '約束はいらない', '坂本真綾の歌手デビュー作品。当時坂本はまだ無名の声優であったが、同曲がテーマソングとなったアニメ『天空のエスカフローネ』とともに知名度を上げることとなる。後に「指輪」が同アニメの劇場版映画の主題歌とな') (0.2441598, '坂本真綾', '本格的な歌手活動は、1996年にテレビアニメ『天空のエスカフローネ』へ出演したことがきっかけで始めており、同作のオープニングテーマソングである「約束はいらない」(岩里祐穂作詞、菅野よう子作曲)をシング') (0.26043588, 'Suara', '大阪府立豊中高等学校を経て大阪外国語大学でインドネシア語を専攻中にバンド・ユニットを組んで音楽活動を始めた。普段はお笑い番組が大好きなこともあってよく喋るほうだが、東京の仕事で標準語の喋りをする時は、') (0.2690969, '早見沙織', '声優デビュー時より、数多くの主題歌やキャラクターソングを担当し、バラードからポップス、ヒットソングのカバー曲や英語の楽曲など、様々な曲を歌いこなす。2009年には吉田仁美とのユニット「blue dro')\n",
    "\n",
    "### Answer: \n",
    "\"\"\"\n",
    "with get_openai_callback() as cb:\n",
    "    messages = [HumanMessage(content=text)]\n",
    "    res = llm.invoke(messages)  # type: ignore"
   ]
  },
  {
   "cell_type": "code",
   "execution_count": 2,
   "metadata": {},
   "outputs": [
    {
     "data": {
      "text/plain": [
       "AIMessage(content='坂本真綾')"
      ]
     },
     "execution_count": 2,
     "metadata": {},
     "output_type": "execute_result"
    }
   ],
   "source": [
    "res"
   ]
  },
  {
   "cell_type": "code",
   "execution_count": 3,
   "metadata": {},
   "outputs": [
    {
     "data": {
      "text/plain": [
       "'坂本真綾'"
      ]
     },
     "execution_count": 3,
     "metadata": {},
     "output_type": "execute_result"
    }
   ],
   "source": [
    "res.content"
   ]
  },
  {
   "cell_type": "code",
   "execution_count": 4,
   "metadata": {},
   "outputs": [
    {
     "data": {
      "text/plain": [
       "Tokens Used: 649\n",
       "\tPrompt Tokens: 642\n",
       "\tCompletion Tokens: 7\n",
       "Successful Requests: 1\n",
       "Total Cost (USD): $0.0066300000000000005"
      ]
     },
     "execution_count": 4,
     "metadata": {},
     "output_type": "execute_result"
    }
   ],
   "source": [
    "cb"
   ]
  },
  {
   "cell_type": "code",
   "execution_count": 5,
   "metadata": {},
   "outputs": [],
   "source": [
    "RESPONSE_MESSAGE = \"Answer\"\n",
    "RESPONSE_PROMPT = f\"### {RESPONSE_MESSAGE}: \\n\"\n",
    "\n",
    "\n",
    "def build_prompt(\n",
    "    user_message: str,\n",
    "    inputs: str | None = \"\",\n",
    "    separator: str = \"\\n\\n### \",\n",
    "    response_message: str = RESPONSE_MESSAGE,\n",
    ") -> str:\n",
    "    prompt = \"\"\n",
    "    roles = [\"Instruction\", response_message]\n",
    "    messages = [\": \\n\" + user_message, \": \\n\"]\n",
    "\n",
    "    if inputs:\n",
    "        roles = [\"Instruction\", \"Context\", response_message]\n",
    "        messages = [\": \\n\" + user_message, \": \\n\" + inputs, \": \\n\"]\n",
    "\n",
    "    for role, message in zip(roles, messages):\n",
    "        prompt += separator + role + message\n",
    "    return prompt"
   ]
  },
  {
   "cell_type": "code",
   "execution_count": 6,
   "metadata": {},
   "outputs": [
    {
     "name": "stderr",
     "output_type": "stream",
     "text": [
      "/home/yu1/miniconda3/envs/llm-sc/lib/python3.10/site-packages/tqdm/auto.py:21: TqdmWarning: IProgress not found. Please update jupyter and ipywidgets. See https://ipywidgets.readthedocs.io/en/stable/user_install.html\n",
      "  from .autonotebook import tqdm as notebook_tqdm\n"
     ]
    },
    {
     "data": {
      "text/html": [
       "<div>\n",
       "<style scoped>\n",
       "    .dataframe tbody tr th:only-of-type {\n",
       "        vertical-align: middle;\n",
       "    }\n",
       "\n",
       "    .dataframe tbody tr th {\n",
       "        vertical-align: top;\n",
       "    }\n",
       "\n",
       "    .dataframe thead th {\n",
       "        text-align: right;\n",
       "    }\n",
       "</style>\n",
       "<table border=\"1\" class=\"dataframe\">\n",
       "  <thead>\n",
       "    <tr style=\"text-align: right;\">\n",
       "      <th></th>\n",
       "      <th>qid</th>\n",
       "      <th>question</th>\n",
       "      <th>answer</th>\n",
       "      <th>context</th>\n",
       "      <th>answers</th>\n",
       "      <th>competition</th>\n",
       "      <th>timestamp</th>\n",
       "      <th>section</th>\n",
       "      <th>number</th>\n",
       "      <th>original_question</th>\n",
       "      <th>original_answer</th>\n",
       "      <th>original_additional_info</th>\n",
       "    </tr>\n",
       "  </thead>\n",
       "  <tbody>\n",
       "    <tr>\n",
       "      <th>0</th>\n",
       "      <td>QA20QBIK-0912</td>\n",
       "      <td>手術によって天才となったチャーリイ・ゴードンの日記という形式を通して語られる、ダニエル・キイ...</td>\n",
       "      <td>アルジャーノンに花束を</td>\n",
       "      <td>ダニエル・キイス 「アルジャーノンに花束を」は中編もそれを発展させた長編も、知的障害者のチャ...</td>\n",
       "      <td>[アルジャーノンに花束を]</td>\n",
       "      <td>第1回AI王</td>\n",
       "      <td>2020/01/27</td>\n",
       "      <td>開発データ問題 (dev1)</td>\n",
       "      <td>912</td>\n",
       "      <td>手術によって天才となったチャーリイ・ゴードンの日記という形式を通して語られる、ダニエル・キイ...</td>\n",
       "      <td>アルジャーノンに花束を</td>\n",
       "      <td></td>\n",
       "    </tr>\n",
       "  </tbody>\n",
       "</table>\n",
       "</div>"
      ],
      "text/plain": [
       "             qid                                           question  \\\n",
       "0  QA20QBIK-0912  手術によって天才となったチャーリイ・ゴードンの日記という形式を通して語られる、ダニエル・キイ...   \n",
       "\n",
       "        answer                                            context  \\\n",
       "0  アルジャーノンに花束を  ダニエル・キイス 「アルジャーノンに花束を」は中編もそれを発展させた長編も、知的障害者のチャ...   \n",
       "\n",
       "         answers competition   timestamp         section number  \\\n",
       "0  [アルジャーノンに花束を]      第1回AI王  2020/01/27  開発データ問題 (dev1)    912   \n",
       "\n",
       "                                   original_question original_answer  \\\n",
       "0  手術によって天才となったチャーリイ・ゴードンの日記という形式を通して語られる、ダニエル・キイ...     アルジャーノンに花束を   \n",
       "\n",
       "  original_additional_info  \n",
       "0                           "
      ]
     },
     "execution_count": 6,
     "metadata": {},
     "output_type": "execute_result"
    }
   ],
   "source": [
    "import pandas as pd\n",
    "import datasets\n",
    "\n",
    "ds = datasets.load_dataset(\"hotchpotch/jaqket_v1_qa_wikija_context\")  # type: ignore\n",
    "valid_ds = ds[\"validation\"]  # type: ignore\n",
    "valid_df = valid_ds.data.to_pandas()  # type: ignore\n",
    "# context は list なので、 \"\\n\" で結合する\n",
    "valid_df[\"context\"] = valid_df[\"context\"].apply(lambda x: \"\\n\".join(x) + \"\\n\")\n",
    "valid_df.head(1)"
   ]
  },
  {
   "cell_type": "code",
   "execution_count": 7,
   "metadata": {},
   "outputs": [],
   "source": [
    "def qa_prompt(question, context, build_prompt_fn=build_prompt):\n",
    "    prompt = build_prompt_fn(question, context)\n",
    "    return prompt"
   ]
  },
  {
   "cell_type": "code",
   "execution_count": 8,
   "metadata": {},
   "outputs": [
    {
     "name": "stderr",
     "output_type": "stream",
     "text": [
      "  0%|          | 0/980 [00:00<?, ?it/s]"
     ]
    },
    {
     "name": "stdout",
     "output_type": "stream",
     "text": [
      "\n",
      "\n",
      "### Instruction: \n",
      "手術によって天才となったチャーリイ・ゴードンの日記という形式を通して語られる、ダニエル・キイスの小説は何? Respond with reference to the following Context.The response should output only the words that are the answer.\n",
      "\n",
      "### Context: \n",
      "ダニエル・キイス 「アルジャーノンに花束を」は中編もそれを発展させた長編も、知的障害者のチャーリイが実験的手術によって天才となり、短期間でその効果が消えてしまった経過を報告書形式で書いたものである。中編が1959年4月号のF&SF誌に掲載され、1966年に長編化された。この小説は何度か他のメディアに採用されており、1968年の映画『まごころを君に』(出演: クリフ・ロバートソン、クレア・ブルーム)、2002年の日本のテレビドラマ『アルジャーノンに花束を』(出演: ユースケ・サンタマリア、菅野美穂)、などがある。クリフ・ロバートソンはこの作品でアカデミー主演男優賞を受賞している。また、キイスは中編版で1959年にヒューゴー賞、長編版で1966年にネビュラ賞を受賞した。また2015年にも日本のテレビドラマ『アルジャーノンに花束を』(出演:山下智久、窪田正孝など)で新版長編も放送された。\n",
      "ダニエル・キイス ニューヨーク州ブルックリン区生まれ。17歳のとき U.S. Maritime Service に就職し船員となった。その後しばらくして、働きながら心理学や文学に興味を抱くようになりブルックリンカレッジで心理学の学士号を取得し、一時期ファッション写真のスタジオで働き、その後ニューヨークの高校で国語教師を務めつつ、定時制で英米文学を学び、週末には小説を書いていた。最終的に英米文学の修士号を得ている。1950年代初め、パルプ雑誌『マーヴェル・サイエンス・ストーリーズ』の編集者となった。この雑誌の出版者であるマーティン・グッドマン(英語版)はアメリカン・コミックスも手がけており、マーベル・コミックの前身となったタイムリー・コミック(1940年代)やアトラス・コミック(1950年代)を出版していた。\n",
      "アルジャーノンに花束を 『アルジャーノンに花束を』(アルジャーノンにはなたばを、Flowers for Algernon)は、アメリカ合衆国の作家ダニエル・キイスによるSF小説。1959年に中編小説として発表され、翌年ヒューゴー賞短編小説部門を受賞。1966年に長編小説として改作され、ネビュラ賞を受賞した。それまでのSF小説が宇宙や未来などを舞台とした作品であったのに比べ、本作は知能指数を高める手術とそれに付随する事柄という限定した範囲での前提でSFとして成立させている。ジュディス・メリルは、本作をSFの多様性をあらわす作品のひとつとして位置づけている。また、最後の一文が主眼であり、ここに収束される感動に泣かされる作品でもある。\n",
      "\n",
      "\n",
      "### Answer: \n",
      "\n"
     ]
    },
    {
     "name": "stderr",
     "output_type": "stream",
     "text": [
      "100%|██████████| 980/980 [19:12<00:00,  1.18s/it]  \n"
     ]
    }
   ],
   "source": [
    "# valid_df での正解率を測る\n",
    "from tqdm import tqdm\n",
    "\n",
    "# valid_df = valid_df.head(10)\n",
    "\n",
    "valid_df = valid_df.reset_index(drop=True)\n",
    "\n",
    "HINT_MESSAGE = \" Respond with reference to the following Context.The response should output only the words that are the answer.\"\n",
    "\n",
    "with get_openai_callback() as cb:\n",
    "    for i in tqdm(range(len(valid_df))):\n",
    "        prompt = qa_prompt(\n",
    "            valid_df[\"question\"][i] + HINT_MESSAGE, valid_df[\"context\"][i]\n",
    "        )\n",
    "        if i == 0:\n",
    "            print(prompt)\n",
    "        answer = valid_df[\"answer\"]\n",
    "        messages = [HumanMessage(content=prompt)]\n",
    "        res = llm.invoke(messages)  # type: ignore\n",
    "        pred = str(res.content)\n",
    "        valid_df.loc[i, \"pred\"] = pred.strip()"
   ]
  },
  {
   "cell_type": "code",
   "execution_count": 9,
   "metadata": {},
   "outputs": [
    {
     "data": {
      "text/plain": [
       "Tokens Used: 961818\n",
       "\tPrompt Tokens: 955755\n",
       "\tCompletion Tokens: 6063\n",
       "Successful Requests: 980\n",
       "Total Cost (USD): $9.73944000000002"
      ]
     },
     "execution_count": 9,
     "metadata": {},
     "output_type": "execute_result"
    }
   ],
   "source": [
    "cb"
   ]
  },
  {
   "cell_type": "code",
   "execution_count": 10,
   "metadata": {},
   "outputs": [
    {
     "data": {
      "text/plain": [
       "0.8785714285714286"
      ]
     },
     "execution_count": 10,
     "metadata": {},
     "output_type": "execute_result"
    }
   ],
   "source": [
    "# 完全一致の正解率を表示\n",
    "valid_df[\"is_correct\"] = valid_df[\"answer\"] == valid_df[\"pred\"]\n",
    "valid_df[\"is_correct\"].mean()"
   ]
  },
  {
   "cell_type": "code",
   "execution_count": 11,
   "metadata": {},
   "outputs": [
    {
     "data": {
      "text/html": [
       "<div>\n",
       "<style scoped>\n",
       "    .dataframe tbody tr th:only-of-type {\n",
       "        vertical-align: middle;\n",
       "    }\n",
       "\n",
       "    .dataframe tbody tr th {\n",
       "        vertical-align: top;\n",
       "    }\n",
       "\n",
       "    .dataframe thead th {\n",
       "        text-align: right;\n",
       "    }\n",
       "</style>\n",
       "<table border=\"1\" class=\"dataframe\">\n",
       "  <thead>\n",
       "    <tr style=\"text-align: right;\">\n",
       "      <th></th>\n",
       "      <th>question</th>\n",
       "      <th>answer</th>\n",
       "      <th>pred</th>\n",
       "      <th>is_correct</th>\n",
       "    </tr>\n",
       "  </thead>\n",
       "  <tbody>\n",
       "    <tr>\n",
       "      <th>4</th>\n",
       "      <td>テレビ番組の検証映像でもよく使用される、映した物体の温度を色分けして表示する装置を何というで...</td>\n",
       "      <td>サーモグラフィー</td>\n",
       "      <td>熱線映像装置</td>\n",
       "      <td>False</td>\n",
       "    </tr>\n",
       "    <tr>\n",
       "      <th>8</th>\n",
       "      <td>ラテン語では「アーリア・ヤクタ・エスト」という、カエサルがルビコン川を渡る際に言ったとされる...</td>\n",
       "      <td>賽は投げられた</td>\n",
       "      <td>Alea iacta est</td>\n",
       "      <td>False</td>\n",
       "    </tr>\n",
       "    <tr>\n",
       "      <th>10</th>\n",
       "      <td>本場鹿児島では「つけあげ」と呼ばれる揚げ物は何でしょう?</td>\n",
       "      <td>薩摩揚げ</td>\n",
       "      <td>さつま揚げ</td>\n",
       "      <td>False</td>\n",
       "    </tr>\n",
       "    <tr>\n",
       "      <th>18</th>\n",
       "      <td>端午の節句には鯉のぼりと一緒にあげる、ひらひらとたなびく筒状の布を何というでしょう?</td>\n",
       "      <td>吹流し</td>\n",
       "      <td>鯉の吹き流し</td>\n",
       "      <td>False</td>\n",
       "    </tr>\n",
       "    <tr>\n",
       "      <th>27</th>\n",
       "      <td>「エステサロン」などというときのエステとは、何という言葉の略でしょう?</td>\n",
       "      <td>エステティック</td>\n",
       "      <td>エステティックサロン</td>\n",
       "      <td>False</td>\n",
       "    </tr>\n",
       "    <tr>\n",
       "      <th>...</th>\n",
       "      <td>...</td>\n",
       "      <td>...</td>\n",
       "      <td>...</td>\n",
       "      <td>...</td>\n",
       "    </tr>\n",
       "    <tr>\n",
       "      <th>951</th>\n",
       "      <td>日本語では「工場制手工業」という、機械制大工業が出現する以前に行われていた最初の資本主義的生...</td>\n",
       "      <td>マニュファクチュア</td>\n",
       "      <td>manufacture</td>\n",
       "      <td>False</td>\n",
       "    </tr>\n",
       "    <tr>\n",
       "      <th>958</th>\n",
       "      <td>弦を地面と水平に張っている、コンサートなどに使用される大型のピアノを何というでしょう?</td>\n",
       "      <td>グランドピアノ</td>\n",
       "      <td>コンサートグランドピアノ</td>\n",
       "      <td>False</td>\n",
       "    </tr>\n",
       "    <tr>\n",
       "      <th>964</th>\n",
       "      <td>旅客機の座席で、ファーストクラスとエコノミークラスの中間にあたるものを一般に何クラスというで...</td>\n",
       "      <td>ビジネスクラス</td>\n",
       "      <td>プレミアム・エコノミー</td>\n",
       "      <td>False</td>\n",
       "    </tr>\n",
       "    <tr>\n",
       "      <th>972</th>\n",
       "      <td>新潟県に本社を置く製菓会社で、主力商品である柿の種やハッピーターンで知られるのは何?</td>\n",
       "      <td>亀田製菓</td>\n",
       "      <td>浪花屋製菓</td>\n",
       "      <td>False</td>\n",
       "    </tr>\n",
       "    <tr>\n",
       "      <th>978</th>\n",
       "      <td>掛け算で使う「×」の記号のもとになったものは何?</td>\n",
       "      <td>十字架</td>\n",
       "      <td>聖アンデレの斜め十字架</td>\n",
       "      <td>False</td>\n",
       "    </tr>\n",
       "  </tbody>\n",
       "</table>\n",
       "<p>119 rows × 4 columns</p>\n",
       "</div>"
      ],
      "text/plain": [
       "                                              question     answer  \\\n",
       "4    テレビ番組の検証映像でもよく使用される、映した物体の温度を色分けして表示する装置を何というで...   サーモグラフィー   \n",
       "8    ラテン語では「アーリア・ヤクタ・エスト」という、カエサルがルビコン川を渡る際に言ったとされる...    賽は投げられた   \n",
       "10                        本場鹿児島では「つけあげ」と呼ばれる揚げ物は何でしょう?       薩摩揚げ   \n",
       "18          端午の節句には鯉のぼりと一緒にあげる、ひらひらとたなびく筒状の布を何というでしょう?        吹流し   \n",
       "27                 「エステサロン」などというときのエステとは、何という言葉の略でしょう?    エステティック   \n",
       "..                                                 ...        ...   \n",
       "951  日本語では「工場制手工業」という、機械制大工業が出現する以前に行われていた最初の資本主義的生...  マニュファクチュア   \n",
       "958        弦を地面と水平に張っている、コンサートなどに使用される大型のピアノを何というでしょう?    グランドピアノ   \n",
       "964  旅客機の座席で、ファーストクラスとエコノミークラスの中間にあたるものを一般に何クラスというで...    ビジネスクラス   \n",
       "972         新潟県に本社を置く製菓会社で、主力商品である柿の種やハッピーターンで知られるのは何?       亀田製菓   \n",
       "978                           掛け算で使う「×」の記号のもとになったものは何?        十字架   \n",
       "\n",
       "               pred  is_correct  \n",
       "4            熱線映像装置       False  \n",
       "8    Alea iacta est       False  \n",
       "10            さつま揚げ       False  \n",
       "18           鯉の吹き流し       False  \n",
       "27       エステティックサロン       False  \n",
       "..              ...         ...  \n",
       "951     manufacture       False  \n",
       "958    コンサートグランドピアノ       False  \n",
       "964     プレミアム・エコノミー       False  \n",
       "972           浪花屋製菓       False  \n",
       "978     聖アンデレの斜め十字架       False  \n",
       "\n",
       "[119 rows x 4 columns]"
      ]
     },
     "execution_count": 11,
     "metadata": {},
     "output_type": "execute_result"
    }
   ],
   "source": [
    "# 間違ったものだけを表示\n",
    "incorrect_df = valid_df[[\"question\", \"answer\", \"pred\", \"is_correct\"]][\n",
    "    valid_df[\"is_correct\"] == False\n",
    "]\n",
    "incorrect_df"
   ]
  },
  {
   "cell_type": "code",
   "execution_count": 12,
   "metadata": {},
   "outputs": [
    {
     "data": {
      "text/plain": [
       "0.9173469387755102"
      ]
     },
     "execution_count": 12,
     "metadata": {},
     "output_type": "execute_result"
    }
   ],
   "source": [
    "# 部分一致の正解率を表示\n",
    "valid_df[\"is_correct\"] = valid_df.apply(lambda x: x[\"answer\"] in x[\"pred\"], axis=1)\n",
    "valid_df[\"is_correct\"].mean()"
   ]
  },
  {
   "cell_type": "code",
   "execution_count": 13,
   "metadata": {},
   "outputs": [
    {
     "data": {
      "text/html": [
       "<div>\n",
       "<style scoped>\n",
       "    .dataframe tbody tr th:only-of-type {\n",
       "        vertical-align: middle;\n",
       "    }\n",
       "\n",
       "    .dataframe tbody tr th {\n",
       "        vertical-align: top;\n",
       "    }\n",
       "\n",
       "    .dataframe thead th {\n",
       "        text-align: right;\n",
       "    }\n",
       "</style>\n",
       "<table border=\"1\" class=\"dataframe\">\n",
       "  <thead>\n",
       "    <tr style=\"text-align: right;\">\n",
       "      <th></th>\n",
       "      <th>question</th>\n",
       "      <th>answer</th>\n",
       "      <th>pred</th>\n",
       "      <th>is_correct</th>\n",
       "    </tr>\n",
       "  </thead>\n",
       "  <tbody>\n",
       "    <tr>\n",
       "      <th>4</th>\n",
       "      <td>テレビ番組の検証映像でもよく使用される、映した物体の温度を色分けして表示する装置を何というで...</td>\n",
       "      <td>サーモグラフィー</td>\n",
       "      <td>熱線映像装置</td>\n",
       "      <td>False</td>\n",
       "    </tr>\n",
       "    <tr>\n",
       "      <th>8</th>\n",
       "      <td>ラテン語では「アーリア・ヤクタ・エスト」という、カエサルがルビコン川を渡る際に言ったとされる...</td>\n",
       "      <td>賽は投げられた</td>\n",
       "      <td>Alea iacta est</td>\n",
       "      <td>False</td>\n",
       "    </tr>\n",
       "    <tr>\n",
       "      <th>10</th>\n",
       "      <td>本場鹿児島では「つけあげ」と呼ばれる揚げ物は何でしょう?</td>\n",
       "      <td>薩摩揚げ</td>\n",
       "      <td>さつま揚げ</td>\n",
       "      <td>False</td>\n",
       "    </tr>\n",
       "    <tr>\n",
       "      <th>18</th>\n",
       "      <td>端午の節句には鯉のぼりと一緒にあげる、ひらひらとたなびく筒状の布を何というでしょう?</td>\n",
       "      <td>吹流し</td>\n",
       "      <td>鯉の吹き流し</td>\n",
       "      <td>False</td>\n",
       "    </tr>\n",
       "    <tr>\n",
       "      <th>28</th>\n",
       "      <td>鎌倉幕府や室町幕府が荘園を管理支配するために設置した役職で、道理の通じない相手の例えとして「...</td>\n",
       "      <td>地頭</td>\n",
       "      <td>荘官</td>\n",
       "      <td>False</td>\n",
       "    </tr>\n",
       "    <tr>\n",
       "      <th>...</th>\n",
       "      <td>...</td>\n",
       "      <td>...</td>\n",
       "      <td>...</td>\n",
       "      <td>...</td>\n",
       "    </tr>\n",
       "    <tr>\n",
       "      <th>947</th>\n",
       "      <td>摂氏温度ではマイナス273.15°Cに相当する、熱力学で考えられる最低の温度のことを何という?</td>\n",
       "      <td>絶対零度</td>\n",
       "      <td>Absolute zero</td>\n",
       "      <td>False</td>\n",
       "    </tr>\n",
       "    <tr>\n",
       "      <th>950</th>\n",
       "      <td>株式や債券など、金融商品から派生して生まれた「金融派生商品」のことを英語で何という?</td>\n",
       "      <td>デリバティブ</td>\n",
       "      <td>financial derivative products</td>\n",
       "      <td>False</td>\n",
       "    </tr>\n",
       "    <tr>\n",
       "      <th>951</th>\n",
       "      <td>日本語では「工場制手工業」という、機械制大工業が出現する以前に行われていた最初の資本主義的生...</td>\n",
       "      <td>マニュファクチュア</td>\n",
       "      <td>manufacture</td>\n",
       "      <td>False</td>\n",
       "    </tr>\n",
       "    <tr>\n",
       "      <th>964</th>\n",
       "      <td>旅客機の座席で、ファーストクラスとエコノミークラスの中間にあたるものを一般に何クラスというで...</td>\n",
       "      <td>ビジネスクラス</td>\n",
       "      <td>プレミアム・エコノミー</td>\n",
       "      <td>False</td>\n",
       "    </tr>\n",
       "    <tr>\n",
       "      <th>972</th>\n",
       "      <td>新潟県に本社を置く製菓会社で、主力商品である柿の種やハッピーターンで知られるのは何?</td>\n",
       "      <td>亀田製菓</td>\n",
       "      <td>浪花屋製菓</td>\n",
       "      <td>False</td>\n",
       "    </tr>\n",
       "  </tbody>\n",
       "</table>\n",
       "<p>81 rows × 4 columns</p>\n",
       "</div>"
      ],
      "text/plain": [
       "                                              question     answer  \\\n",
       "4    テレビ番組の検証映像でもよく使用される、映した物体の温度を色分けして表示する装置を何というで...   サーモグラフィー   \n",
       "8    ラテン語では「アーリア・ヤクタ・エスト」という、カエサルがルビコン川を渡る際に言ったとされる...    賽は投げられた   \n",
       "10                        本場鹿児島では「つけあげ」と呼ばれる揚げ物は何でしょう?       薩摩揚げ   \n",
       "18          端午の節句には鯉のぼりと一緒にあげる、ひらひらとたなびく筒状の布を何というでしょう?        吹流し   \n",
       "28   鎌倉幕府や室町幕府が荘園を管理支配するために設置した役職で、道理の通じない相手の例えとして「...         地頭   \n",
       "..                                                 ...        ...   \n",
       "947    摂氏温度ではマイナス273.15°Cに相当する、熱力学で考えられる最低の温度のことを何という?       絶対零度   \n",
       "950         株式や債券など、金融商品から派生して生まれた「金融派生商品」のことを英語で何という?     デリバティブ   \n",
       "951  日本語では「工場制手工業」という、機械制大工業が出現する以前に行われていた最初の資本主義的生...  マニュファクチュア   \n",
       "964  旅客機の座席で、ファーストクラスとエコノミークラスの中間にあたるものを一般に何クラスというで...    ビジネスクラス   \n",
       "972         新潟県に本社を置く製菓会社で、主力商品である柿の種やハッピーターンで知られるのは何?       亀田製菓   \n",
       "\n",
       "                              pred  is_correct  \n",
       "4                           熱線映像装置       False  \n",
       "8                   Alea iacta est       False  \n",
       "10                           さつま揚げ       False  \n",
       "18                          鯉の吹き流し       False  \n",
       "28                              荘官       False  \n",
       "..                             ...         ...  \n",
       "947                  Absolute zero       False  \n",
       "950  financial derivative products       False  \n",
       "951                    manufacture       False  \n",
       "964                    プレミアム・エコノミー       False  \n",
       "972                          浪花屋製菓       False  \n",
       "\n",
       "[81 rows x 4 columns]"
      ]
     },
     "execution_count": 13,
     "metadata": {},
     "output_type": "execute_result"
    }
   ],
   "source": [
    "valid_df[[\"question\", \"answer\", \"pred\", \"is_correct\"]].head(100)\n",
    "# 間違ったものだけを表示\n",
    "valid_df[[\"question\", \"answer\", \"pred\", \"is_correct\"]][valid_df[\"is_correct\"] == False]"
   ]
  },
  {
   "cell_type": "code",
   "execution_count": 14,
   "metadata": {},
   "outputs": [
    {
     "name": "stdout",
     "output_type": "stream",
     "text": [
      ",question,answer,pred,is_correct\n",
      "4,テレビ番組の検証映像でもよく使用される、映した物体の温度を色分けして表示する装置を何というでしょう?,サーモグラフィー,熱線映像装置,False\n",
      "8,ラテン語では「アーリア・ヤクタ・エスト」という、カエサルがルビコン川を渡る際に言ったとされる有名な言葉は何でしょう?,賽は投げられた,Alea iacta est,False\n",
      "10,本場鹿児島では「つけあげ」と呼ばれる揚げ物は何でしょう?,薩摩揚げ,さつま揚げ,False\n",
      "18,端午の節句には鯉のぼりと一緒にあげる、ひらひらとたなびく筒状の布を何というでしょう?,吹流し,鯉の吹き流し,False\n",
      "28,鎌倉幕府や室町幕府が荘園を管理支配するために設置した役職で、道理の通じない相手の例えとして「泣く子とコレには勝てぬ」ともいわれるのは何でしょう?,地頭,荘官,False\n",
      "29,人間の太ももの裏側にある、大腿四頭筋と対になる大腿二頭筋・半膜様筋・半腱様筋などを総称して、「もも肉のひも」という意味の英語で何という?,ハムストリング,Hamstrings,False\n",
      "35,クラブなどで人々を踊らせるための電子音楽のことを「EDM」といいますが、これは何という言葉の略でしょう?,エレクトロニック・ダンス・ミュージック,Electronic Dance Music,False\n",
      "72,兵庫県の「岩津」、埼玉県の「深谷」、群馬県の「下仁田」といえばどんな野菜のブランドでしょう?,ネギ,ねぎ,False\n",
      "74,アイヌの伝承では柳の葉が人間の世界に流れ出て魚になったという、北海道南部に分布するキュウリウオ科の魚は何?,シシャモ,キュウリウオ,False\n",
      "83,ティーンエイジャー向けに書かれた小説のことで、英語で「少年向け」という意味があるジャンルを何小説という?,ジュブナイル,ヤングアダルト小説,False\n",
      "86,マニュアル自動車についている3つのペダルとは、アクセルペダル、ブレーキペダルと何でしょう?,クラッチペダル,クラッチ,False\n",
      "95,スポーツなどで、声ではなく視線を送ることで合図の代わりにすることを、英語で何というでしょう?,アイコンタクト,eye contact signals,False\n",
      "99,アフリカの国・シエラレオネの国旗と同じ色の並びの看板を使っている、日本のコンビニチェーンは何?,ファミリーマート,セブン-イレブン,False\n",
      "112,ボクシングでダウンを宣告された選手が10カウント以内にこれをできない場合はノックアウトとなる、戦う意思を示すためのポーズを何というでしょう?,ファイティングポーズ,ファイティング・ポーズ,False\n",
      "125,事前に整理券を受け取ることで並ばずに参加できる、東京ディズニーリゾートで一部のアトラクションに導入されているシステムは何でしょう?,ディズニー・ファストパス,スタンバイパス,False\n",
      "129,サッカーで、ファールを受けたように見せかけて倒れる反則を何というでしょう?,シミュレーション,ダイビング,False\n",
      "141,英語版のタイトルを『The Path』という、実業家・松下幸之助の著書は何でしょう?,道をひらく,A Compass to Fulfillment,False\n",
      "145,3、4人で1人を担ぎ、上の人が帽子や鉢巻などを奪いあう、よく運動会で行われる競技は何でしょう?,騎馬戦,川中島,False\n",
      "168,種や豆を発芽させたブロッコリーなどの新芽野菜を、「新芽」という意味の英語で何という?,スプラウト,Sprouts,False\n",
      "178,2019年1月に現役を引退した横綱・稀勢の里が襲名した年寄名跡は何でしょう?,荒磯,13代二所ノ関,False\n",
      "196,ハートやリボンをモチーフにしたかわいいネックレスで人気のファッションブランドで、その名が「魚たちが安息を感じる水の温度」に由来しているのは何でしょう?,4°C,4℃,False\n",
      "226,かまぼこや焼き魚にして食べられる、主に北海道で捕れるアイナメ科の魚で、漢字では魚へんに花と書くのは何でしょう?,ホッケ,アイナメ,False\n",
      "250,国立公園や国定公園内の景勝地に整備された、安い金額で利用できる宿泊設備をもつレクリエーション施設を何という?,休暇村,国民宿舎,False\n",
      "252,英語で「刺し通す」という意味がある、耳など身体の一部に穴をあけて装着する装身具のことを何というでしょう?,ピアス,pierced earrings,False\n",
      "267,中国周代の道学者・関尹子の著書のなかに記されている、三者が互いに牽制しあって身動きが取れない状態を、ヘビ、カエル、ナメクジに例えて何という?,三すくみ,蛇拳(じゃけん),False\n",
      "283,英語で「こそこそ歩く」という意味がある、ゴム底の布製または皮製のスポーツシューズは何?,スニーカー,sneakers,False\n",
      "297,各省や国務大臣を長とする庁に置かれる、大臣に次ぐ官僚トップの役職を何という?,事務次官,次官,False\n",
      "319,フランス語で「完全な」という意味がある、背の高いグラスにアイスクリームやフルーツなどを盛り付けたデザートは何でしょう?,パフェ,parfait,False\n",
      "331,言い伝えではネズミにだまされて約束の日を間違えたため、十二支に入れなかったとされる動物は何でしょう?,ネコ,猫,False\n",
      "332,マレーシア航空の旅客機の尾翼に描かれている、お正月でおなじみのおもちゃは何?,凧,ワウブラン,False\n",
      "371,エドヒガンとオオシマザクラの2種を交配させて生まれた、日本のサクラの大部分を占める品種は何でしょう?,ソメイヨシノ,サトザクラ群,False\n",
      "372,英語で「光線」と「綿」を意味する言葉を組み合わせた造語で、絹の代用品としてセルロースから作られた繊維は何?,レーヨン,Rayon,False\n",
      "374,英語圏では「ソフトサーブ」と呼ばれている、冷たい食べ物は何でしょう?,ソフトクリーム,soft serve ice cream,False\n",
      "376,1月7日に邪気を払うために食べられる、セリやナズナなどの七草を入れて作られる料理は何?,七草がゆ,七草粥,False\n",
      "430,病気やケガの診断や治療方針について、患者が主治医ではない医師の意見を求めることを、「第二の意見」という意味の英語で何という?,セカンド・オピニオン,Second opinion,False\n",
      "444,折りたたみ式の把手がついたものが多い、キャンプや登山などで使う鍋型の調理器具をドイツ語で何という?,コッヘル,Kocher,False\n",
      "453,英語では「シトリックアシッド」という、レモンやグレープフルーツなどに多く含まれる酸味成分といえば何?,クエン酸,citric acid,False\n",
      "454,映画において、一般公開に先立って特定の劇場のみで行われる封切り上映のことを英語で何というでしょう?,ロードショー,Limited theatrical release,False\n",
      "474,英語で家の内装を「インテリア」といいますが、外装は何という?,エクステリア,exterior,False\n",
      "477,英語では「キャリコ・キャット」という、大半がメスの、白、黒、茶色の毛が入り混じった猫の種類は何?,三毛猫,Calico Cat,False\n",
      "478,アメリカの社会学者ミルズが用いた用語で、国の政治・経済・軍事などの頂点にたち、国家の政策に決定権を有する者を何エリートという?,パワーエリート,権力エリート,False\n",
      "485,日本語では「臨床道化師」と訳される、けがや病気で入院している子供の病室を訪ね、演技を見せて楽しませる道化師を何クラウンという?,クリニクラウン,ホスピタルクラウン,False\n",
      "495,英語では「モーニング・シックネス」という、女性の妊娠中に起こる吐き気や嘔吐のことを総称して何というでしょう?,つわり,Morning sickness,False\n",
      "502,土地を所有していた片倉工業が絹糸を製造していたことから、英語で「繭」という意味の名前が付けられた、さいたま新都心駅前にあるショッピングモールは何でしょう?,コクーンシティ,COCOON CITY,False\n",
      "516,ヒトの場合は濃度0.9%のものがそれにあたる、その動物の体液と等しい浸透圧に調製された塩化ナトリウム水溶液のことを漢字5文字で何というでしょう?,生理食塩水,生理的食塩水,False\n",
      "521,英語では「クックー・クロック」と呼ばれる、時間になると鳥の模型が鳴き声で知らせる置時計を何というでしょう?,鳩時計,cuckoo clock,False\n",
      "529,キリスト教では7つの大罪の1つ「嫉妬」を司るとされている海の怪物で、思想家トマス・ホッブズの著書のタイトルにもなっているのは何でしょう?,リヴァイアサン,レヴィアタン,False\n",
      "537,将棋で、飛車が成ると何という名前の駒になるでしょう?,竜王,龍馬,False\n",
      "540,2019年4月から1年間、トーク番組『A-Studio』のサブMCを務めた、ドラマ『義母と娘のブルース』などに出演した女優は誰でしょう?,上白石萌歌,川栄李奈,False\n",
      "551,日本には1916年に川口三郎によって紹介された、脊椎のゆがみを手で矯正して健康を保とうとする治療法といえば何でしょう?,カイロプラクティック,スポンディロセラピー,False\n",
      "561,自動車の排気音を低減させる装置のことを、英語で何というでしょう?,マフラー,muffler,False\n",
      "562,秋田の「西馬音内盆踊り」、岐阜の「郡上おどり」と並んで日本三大盆踊りと称される、毎年夏に徳島県で行われる盆踊りといえば何でしょう?,阿波踊り,阿波おどり,False\n",
      "565,フレデリック・ダネーとマンフレッド・リーによるペンネームである、名探偵ドルリー・レーンが活躍する小説『Xの悲劇』『Yの悲劇』の作者は誰?,エラリー・クイーン,バーナビー・ロス,False\n",
      "599,道路の排水路などで見られる、鋼材を格子状に溶接した溝蓋を英語で何という?,グレーチング,grating,False\n",
      "611,郵便局で、使用済みの証として切手やはがきに押す日付印のことを普通何というでしょう?,消印,証示印,False\n",
      "681,1921年にイギリスで初めて発売された、バインダー式で、中身の用紙を交換できるタイプの手帳を何という?,システム手帳,6穴バインダー手帳,False\n",
      "690,英語では「コンセントレーション」や「メモリー」と呼ばれる、裏返したトランプを2枚ずつ表にして同じ数字なら獲得できるというルールのゲームは何でしょう?,神経衰弱,Concentration,False\n",
      "704,大変な食いしん坊であり、半日以上絶食すると餓死してしまう、土を掘って生活している姿が有名なこの生き物は何でしょう?,モグラ,アンバー・ハルク,False\n",
      "707,13世紀にクメールを破って、インドシナ半島のチャオプラヤ川流域にタイ族が初めて建国した王朝は何?,スコータイ王朝,スコータイ王国,False\n",
      "716,1853年に黒船を率いて日本に来航した、当時アメリカ東インド艦隊の司令長官を務めていた人物は誰でしょう?,マシュー・ペリー,マシュー・カルブレース・ペリー,False\n",
      "730,年金生活をする夫婦が空き部屋を利用して運営した例が多かったことから英語で「年金」という意味がある、観光地に見られる西洋風の民宿を何という?,ペンション,Pension,False\n",
      "740,「建設」「特例」などに分類される、国が財源不足をまかなうために発行する債券を何という?,国債,公債,False\n",
      "746,天突きと呼ばれる道具で押し出すことで糸状になる、漢字では「心に太い」と書く食べ物は何でしょう?,ところてん,心太,False\n",
      "751,英語の「温泉」という意味の単語の由来になっている、ベルギー東部にある温泉保養都市はどこでしょう?,スパ,Spa,False\n",
      "755,英語では「海のキュウリ」という意味の名前で呼ばれる、その内臓が珍味の「このわた」になることで知られる海産物は何でしょう?,ナマコ,Sea Cucumber,False\n",
      "789,ことわざ「敵に塩をおくる」の「敵」とは、誰のこと?,武田信玄,上杉謙信,False\n",
      "818,食器洗い機やエアコンなどが、システムキッチンや壁面と一体化するように設置されていることを、「作りつけの」という意味の英語で何という?,ビルトイン,built-in,False\n",
      "820,ふわっとした食感から、英語で「薄い絹織物」という意味の名前がついたスポンジケーキの一種は何?,シフォンケーキ,Chiffon cake,False\n",
      "834,清少納言の『枕草子』で、水晶や藤の花などとともに「上品なもの」として述べている食べ物は何?,かき氷,削り氷,False\n",
      "854,日本にある海に面していない都道府県のうち、最も西にあるのはどこでしょう?,奈良県,滋賀県,False\n",
      "879,ひらがなにすると同じ文字が3つ続く、馬術競技の1種目は何でしょう?,馬場馬術,ドレッサージュ,False\n",
      "881,英語で「基準」という意味がある、コンピューターのハードウェアやソフトウェアの性能を比較するために行われるテストを何という?,ベンチマーク,Benchmarking,False\n",
      "885,英語で、メスは「ピーヘン」、オスは「ピーコック」と呼び分けられる鳥は何でしょう?,クジャク,Peafowl,False\n",
      "924,英語で「原文」や「教科書」という意味があるほか、コンピュータ用語としては文字コードだけで構成されたデータを指して使われる言葉は何でしょう?,テキスト,source code,False\n",
      "925,音楽CDやDVDのデータをデジタルデータに変換してパソコンに取り込むことを英語で何という?,リッピング,Ripping,False\n",
      "929,料理の「天むす」に使われるのは何の天ぷらでしょう?,エビ,海老の天ぷら,False\n",
      "947,摂氏温度ではマイナス273.15°Cに相当する、熱力学で考えられる最低の温度のことを何という?,絶対零度,Absolute zero,False\n",
      "950,株式や債券など、金融商品から派生して生まれた「金融派生商品」のことを英語で何という?,デリバティブ,financial derivative products,False\n",
      "951,日本語では「工場制手工業」という、機械制大工業が出現する以前に行われていた最初の資本主義的生産形態のことを英語で何というでしょう?,マニュファクチュア,manufacture,False\n",
      "964,旅客機の座席で、ファーストクラスとエコノミークラスの中間にあたるものを一般に何クラスというでしょう?,ビジネスクラス,プレミアム・エコノミー,False\n",
      "972,新潟県に本社を置く製菓会社で、主力商品である柿の種やハッピーターンで知られるのは何?,亀田製菓,浪花屋製菓,False\n",
      "\n"
     ]
    }
   ],
   "source": [
    "print(\n",
    "    valid_df[[\"question\", \"answer\", \"pred\", \"is_correct\"]][\n",
    "        valid_df[\"is_correct\"] == False\n",
    "    ].to_csv()\n",
    ")"
   ]
  }
 ],
 "metadata": {
  "kernelspec": {
   "display_name": "llm-sc",
   "language": "python",
   "name": "python3"
  },
  "language_info": {
   "codemirror_mode": {
    "name": "ipython",
    "version": 3
   },
   "file_extension": ".py",
   "mimetype": "text/x-python",
   "name": "python",
   "nbconvert_exporter": "python",
   "pygments_lexer": "ipython3",
   "version": "3.10.12"
  }
 },
 "nbformat": 4,
 "nbformat_minor": 2
}
