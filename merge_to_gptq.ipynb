{
 "cells": [
  {
   "cell_type": "code",
   "execution_count": 1,
   "metadata": {},
   "outputs": [],
   "source": [
    "MODEL_NAME = \"rinna/youri-7b-instruction\"\n",
    "MODEL_BASE_NAME = MODEL_NAME.split(\"/\")[-1]\n",
    "LORA_DIR = f\"./pretrained_lora_{MODEL_BASE_NAME}\"\n",
    "\n",
    "OUTPUT_MERGED_DIR = f\"./pretrained_merged_{MODEL_BASE_NAME}\"\n",
    "OUTPUT_QUANTIZED_DIR = f\"./pretrained_gptq_{MODEL_BASE_NAME}\""
   ]
  },
  {
   "cell_type": "code",
   "execution_count": 2,
   "metadata": {},
   "outputs": [
    {
     "name": "stderr",
     "output_type": "stream",
     "text": [
      "/home/yu1/miniconda3/envs/llm-sc/lib/python3.10/site-packages/tqdm/auto.py:21: TqdmWarning: IProgress not found. Please update jupyter and ipywidgets. See https://ipywidgets.readthedocs.io/en/stable/user_install.html\n",
      "  from .autonotebook import tqdm as notebook_tqdm\n"
     ]
    }
   ],
   "source": [
    "from peft import PeftModel  # type: ignore\n",
    "from transformers import AutoTokenizer, AutoModelForCausalLM\n",
    "import os\n",
    "\n",
    "if not os.path.exists(OUTPUT_MERGED_DIR):\n",
    "    base_model = AutoModelForCausalLM.from_pretrained(\n",
    "        MODEL_NAME,\n",
    "    )\n",
    "    model = PeftModel.from_pretrained(base_model, LORA_DIR)\n",
    "    model = model.merge_and_unload().half()\n",
    "    model.save_pretrained(OUTPUT_MERGED_DIR)\n",
    "    del model  # unload\n",
    "    del base_model  # unload\n",
    "    tokenizer = AutoTokenizer.from_pretrained(MODEL_NAME)\n",
    "    # save to OUTPUT_SAVE_DIR\n",
    "    tokenizer.save_pretrained(OUTPUT_MERGED_DIR)\n",
    "else:\n",
    "    tokenizer = AutoTokenizer.from_pretrained(OUTPUT_MERGED_DIR)"
   ]
  },
  {
   "cell_type": "code",
   "execution_count": 3,
   "metadata": {},
   "outputs": [
    {
     "data": {
      "text/html": [
       "<div>\n",
       "<style scoped>\n",
       "    .dataframe tbody tr th:only-of-type {\n",
       "        vertical-align: middle;\n",
       "    }\n",
       "\n",
       "    .dataframe tbody tr th {\n",
       "        vertical-align: top;\n",
       "    }\n",
       "\n",
       "    .dataframe thead th {\n",
       "        text-align: right;\n",
       "    }\n",
       "</style>\n",
       "<table border=\"1\" class=\"dataframe\">\n",
       "  <thead>\n",
       "    <tr style=\"text-align: right;\">\n",
       "      <th></th>\n",
       "      <th>qid</th>\n",
       "      <th>question</th>\n",
       "      <th>answer</th>\n",
       "      <th>context</th>\n",
       "      <th>answers</th>\n",
       "      <th>competition</th>\n",
       "      <th>timestamp</th>\n",
       "      <th>section</th>\n",
       "      <th>number</th>\n",
       "      <th>original_question</th>\n",
       "      <th>original_answer</th>\n",
       "      <th>original_additional_info</th>\n",
       "    </tr>\n",
       "  </thead>\n",
       "  <tbody>\n",
       "    <tr>\n",
       "      <th>0</th>\n",
       "      <td>QA20QBIK-0912</td>\n",
       "      <td>手術によって天才となったチャーリイ・ゴードンの日記という形式を通して語られる、ダニエル・キイ...</td>\n",
       "      <td>アルジャーノンに花束を</td>\n",
       "      <td>ダニエル・キイス 「アルジャーノンに花束を」は中編もそれを発展させた長編も、知的障害者のチャ...</td>\n",
       "      <td>[アルジャーノンに花束を]</td>\n",
       "      <td>第1回AI王</td>\n",
       "      <td>2020/01/27</td>\n",
       "      <td>開発データ問題 (dev1)</td>\n",
       "      <td>912</td>\n",
       "      <td>手術によって天才となったチャーリイ・ゴードンの日記という形式を通して語られる、ダニエル・キイ...</td>\n",
       "      <td>アルジャーノンに花束を</td>\n",
       "      <td></td>\n",
       "    </tr>\n",
       "  </tbody>\n",
       "</table>\n",
       "</div>"
      ],
      "text/plain": [
       "             qid                                           question  \\\n",
       "0  QA20QBIK-0912  手術によって天才となったチャーリイ・ゴードンの日記という形式を通して語られる、ダニエル・キイ...   \n",
       "\n",
       "        answer                                            context  \\\n",
       "0  アルジャーノンに花束を  ダニエル・キイス 「アルジャーノンに花束を」は中編もそれを発展させた長編も、知的障害者のチャ...   \n",
       "\n",
       "         answers competition   timestamp         section number  \\\n",
       "0  [アルジャーノンに花束を]      第1回AI王  2020/01/27  開発データ問題 (dev1)    912   \n",
       "\n",
       "                                   original_question original_answer  \\\n",
       "0  手術によって天才となったチャーリイ・ゴードンの日記という形式を通して語られる、ダニエル・キイ...     アルジャーノンに花束を   \n",
       "\n",
       "  original_additional_info  \n",
       "0                           "
      ]
     },
     "execution_count": 3,
     "metadata": {},
     "output_type": "execute_result"
    }
   ],
   "source": [
    "import pandas as pd\n",
    "import datasets\n",
    "\n",
    "ds = datasets.load_dataset(\"hotchpotch/jaqket_v1_qa_wikija_context\")  # type: ignore\n",
    "valid_ds = ds[\"validation\"]  # type: ignore\n",
    "valid_df = valid_ds.data.to_pandas()  # type: ignore\n",
    "# context は list なので、 \"\\n\" で結合する\n",
    "valid_df[\"context\"] = valid_df[\"context\"].apply(lambda x: \"\\n\".join(x) + \"\\n\")\n",
    "valid_df.head(1)"
   ]
  },
  {
   "cell_type": "code",
   "execution_count": 4,
   "metadata": {},
   "outputs": [],
   "source": [
    "RESPONSE_MESSAGE = \"応答\"\n",
    "RESPONSE_PROMPT = f\"### {RESPONSE_MESSAGE}: \\n\"\n",
    "DEVICE = \"cuda:0\"\n",
    "\n",
    "\n",
    "def build_prompt(\n",
    "    user_message: str,\n",
    "    inputs: str | None = \"\",\n",
    "    separator: str = \"\\n\\n### \",\n",
    "    response_message: str = RESPONSE_MESSAGE,\n",
    ") -> str:\n",
    "    system_message = \"以下は、タスクを説明する指示と、文脈のある入力の組み合わせです。要求を適切に満たす応答を書きなさい。\"\n",
    "    prompt = system_message\n",
    "    roles = [\"指示\", response_message]\n",
    "    messages = [\": \\n\" + user_message, \": \\n\"]\n",
    "\n",
    "    if inputs:\n",
    "        roles = [\"指示\", \"入力\", response_message]\n",
    "        messages = [\": \\n\" + user_message, \": \\n\" + inputs, \": \\n\"]\n",
    "\n",
    "    for role, message in zip(roles, messages):\n",
    "        prompt += separator + role + message\n",
    "    return prompt"
   ]
  },
  {
   "cell_type": "code",
   "execution_count": 5,
   "metadata": {},
   "outputs": [
    {
     "data": {
      "text/html": [
       "<div>\n",
       "<style scoped>\n",
       "    .dataframe tbody tr th:only-of-type {\n",
       "        vertical-align: middle;\n",
       "    }\n",
       "\n",
       "    .dataframe tbody tr th {\n",
       "        vertical-align: top;\n",
       "    }\n",
       "\n",
       "    .dataframe thead th {\n",
       "        text-align: right;\n",
       "    }\n",
       "</style>\n",
       "<table border=\"1\" class=\"dataframe\">\n",
       "  <thead>\n",
       "    <tr style=\"text-align: right;\">\n",
       "      <th></th>\n",
       "      <th>qid</th>\n",
       "      <th>question</th>\n",
       "      <th>answer</th>\n",
       "      <th>context</th>\n",
       "      <th>answers</th>\n",
       "      <th>competition</th>\n",
       "      <th>timestamp</th>\n",
       "      <th>section</th>\n",
       "      <th>number</th>\n",
       "      <th>original_question</th>\n",
       "      <th>original_answer</th>\n",
       "      <th>original_additional_info</th>\n",
       "    </tr>\n",
       "  </thead>\n",
       "  <tbody>\n",
       "    <tr>\n",
       "      <th>0</th>\n",
       "      <td>QA20CAPR-0004</td>\n",
       "      <td>『non・no』『週刊プレイボーイ』『週刊少年ジャンプ』といえば、発行している出版社はどこで...</td>\n",
       "      <td>集英社</td>\n",
       "      <td>集英社 株式会社集英社(しゅうえいしゃ)は、日本の総合出版社。『週刊少年ジャンプ』『週刊プレ...</td>\n",
       "      <td>[集英社]</td>\n",
       "      <td>第1回AI王</td>\n",
       "      <td>2019/12/25</td>\n",
       "      <td>開発データ問題 (dev1)</td>\n",
       "      <td>4</td>\n",
       "      <td>『non・no』『週刊プレイボーイ』『週刊少年ジャンプ』といえば、発行している出版社はどこで...</td>\n",
       "      <td>集英社</td>\n",
       "      <td></td>\n",
       "    </tr>\n",
       "  </tbody>\n",
       "</table>\n",
       "</div>"
      ],
      "text/plain": [
       "             qid                                           question answer  \\\n",
       "0  QA20CAPR-0004  『non・no』『週刊プレイボーイ』『週刊少年ジャンプ』といえば、発行している出版社はどこで...    集英社   \n",
       "\n",
       "                                             context answers competition  \\\n",
       "0  集英社 株式会社集英社(しゅうえいしゃ)は、日本の総合出版社。『週刊少年ジャンプ』『週刊プレ...   [集英社]      第1回AI王   \n",
       "\n",
       "    timestamp         section number  \\\n",
       "0  2019/12/25  開発データ問題 (dev1)      4   \n",
       "\n",
       "                                   original_question original_answer  \\\n",
       "0  『non・no』『週刊プレイボーイ』『週刊少年ジャンプ』といえば、発行している出版社はどこで...             集英社   \n",
       "\n",
       "  original_additional_info  \n",
       "0                           "
      ]
     },
     "execution_count": 5,
     "metadata": {},
     "output_type": "execute_result"
    }
   ],
   "source": [
    "import pandas as pd\n",
    "import datasets\n",
    "\n",
    "ds = datasets.load_dataset(\"hotchpotch/jaqket_v1_qa_wikija_context\")  # type: ignore\n",
    "train_ds = ds[\"train\"]  # type: ignore\n",
    "train_df = train_ds.data.to_pandas()  # type: ignore\n",
    "# context は list なので、 \"\\n\" で結合する\n",
    "train_df[\"context\"] = train_df[\"context\"].apply(lambda x: \"\\n\".join(x) + \"\\n\")\n",
    "train_df.head(1)"
   ]
  },
  {
   "cell_type": "code",
   "execution_count": 6,
   "metadata": {},
   "outputs": [
    {
     "data": {
      "text/plain": [
       "'以下は、タスクを説明する指示と、文脈のある入力の組み合わせです。要求を適切に満たす応答を書きなさい。\\n\\n### 指示: \\n『non・no』『週刊プレイボーイ』『週刊少年ジャンプ』といえば、発行している出版社はどこでしょう?\\n\\n### 入力: \\n集英社 株式会社集英社(しゅうえいしゃ)は、日本の総合出版社。『週刊少年ジャンプ』『週刊プレイボーイ』『non-no』『すばる』 『Myojo』などの雑誌を発行している。社名は「英知が集う」の意味。\\nNon-no 『平凡パンチ』(平凡出版、現・マガジンハウス)の対抗馬として集英社より『週刊プレイボーイ』が創刊された経緯と同じく、1971年、平凡パンチ女性版(後の『an・an』)に対抗する形で創刊された。発売日は、長らく毎月5日・20日の月2回であったが、2010年9月18日発売の11月号より毎月20日のみとなった。女性ファッション誌の老舗として、1970年代には『an・an』とともに旅行特集を掲載し、アンノン族と呼ばれる、ファッション雑誌やガイドブックを片手に一人旅や少人数で旅行する若い女性を生み出した。人気ファッションモデルを数多く輩出し、女優、タレントに転身し成功した例も数多い。直接のつながりはないが、『Seventeen』より多少ターゲットの年齢が高いという点は創刊以来一貫している。2022年現在の編集長は俵理佳子。\\n小説NON 小説NON(しょうせつノン)は、株式会社祥伝社が発行している月刊の小説誌である。1986年6月創刊。毎月22日に発売。判型はA5。雑誌コードは4765。月刊小説誌には、他に『オール讀物』『月刊ジェイ・ノベル』『小説現代』『小説新潮』『小説すばる』『小説宝石』『小説 野性時代』などがある。\\n\\n\\n### 応答: \\n\\n集英社'"
      ]
     },
     "execution_count": 6,
     "metadata": {},
     "output_type": "execute_result"
    }
   ],
   "source": [
    "prompts = []\n",
    "for _, row in train_df.iterrows():\n",
    "    prompts.append(build_prompt(row[\"question\"], row[\"context\"]) + \"\\n\" + row[\"answer\"])\n",
    "prompts[0]"
   ]
  },
  {
   "cell_type": "code",
   "execution_count": 7,
   "metadata": {},
   "outputs": [],
   "source": [
    "def get_examples(texts, n_samples=128):\n",
    "    # https://github.com/PanQiWei/AutoGPTQ/blob/main/examples/quantization/quant_with_alpaca.py\n",
    "    # では128サンプルを使っているため、ここでも128サンプルを使う\n",
    "    texts = texts[:n_samples]\n",
    "    for text in texts:\n",
    "        yield tokenizer(text)  # type: ignore\n",
    "\n",
    "\n",
    "examples = get_examples(prompts)"
   ]
  },
  {
   "cell_type": "code",
   "execution_count": 8,
   "metadata": {},
   "outputs": [
    {
     "name": "stderr",
     "output_type": "stream",
     "text": [
      "Loading checkpoint shards:   0%|          | 0/3 [00:00<?, ?it/s]"
     ]
    },
    {
     "name": "stderr",
     "output_type": "stream",
     "text": [
      "Loading checkpoint shards: 100%|██████████| 3/3 [00:02<00:00,  1.31it/s]\n"
     ]
    }
   ],
   "source": [
    "from auto_gptq import AutoGPTQForCausalLM, BaseQuantizeConfig  # type: ignore\n",
    "\n",
    "quantize_config = BaseQuantizeConfig(\n",
    "    bits=4,  # quantize model to 4-bit\n",
    "    group_size=128,  # it is recommended to set the value to 128\n",
    "    desc_act=False,  # set to False can significantly speed up inference but the perplexity may slightly bad\n",
    ")\n",
    "if not os.path.exists(OUTPUT_QUANTIZED_DIR):\n",
    "    model = AutoGPTQForCausalLM.from_pretrained(OUTPUT_MERGED_DIR, quantize_config)\n",
    "    model.quantize(examples)\n",
    "    model.save_quantized(OUTPUT_QUANTIZED_DIR, use_safetensors=True)\n",
    "    tokenizer.save_pretrained(OUTPUT_QUANTIZED_DIR)"
   ]
  }
 ],
 "metadata": {
  "kernelspec": {
   "display_name": "llm-sc",
   "language": "python",
   "name": "python3"
  },
  "language_info": {
   "codemirror_mode": {
    "name": "ipython",
    "version": 3
   },
   "file_extension": ".py",
   "mimetype": "text/x-python",
   "name": "python",
   "nbconvert_exporter": "python",
   "pygments_lexer": "ipython3",
   "version": "3.10.12"
  }
 },
 "nbformat": 4,
 "nbformat_minor": 2
}
